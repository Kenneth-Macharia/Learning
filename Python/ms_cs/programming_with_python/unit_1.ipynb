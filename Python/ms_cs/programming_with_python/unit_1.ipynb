{
 "cells": [
  {
   "cell_type": "code",
   "execution_count": 1,
   "metadata": {},
   "outputs": [
    {
     "name": "stdout",
     "output_type": "stream",
     "text": [
      "[1]\n",
      "2\n"
     ]
    }
   ],
   "source": [
    "# lists\n",
    "l = []\n",
    "l.append(1)\n",
    "print(l)\n",
    "\n",
    "l2 = [1.2, 2, 1]\n",
    "print(l2.index(1))"
   ]
  },
  {
   "cell_type": "code",
   "execution_count": 4,
   "metadata": {},
   "outputs": [
    {
     "ename": "TypeError",
     "evalue": "array item must be unicode character",
     "output_type": "error",
     "traceback": [
      "\u001b[0;31m---------------------------------------------------------------------------\u001b[0m",
      "\u001b[0;31mTypeError\u001b[0m                                 Traceback (most recent call last)",
      "\u001b[0;32m<ipython-input-4-9310f93facbd>\u001b[0m in \u001b[0;36m<module>\u001b[0;34m\u001b[0m\n\u001b[1;32m      1\u001b[0m \u001b[0;32mfrom\u001b[0m \u001b[0marray\u001b[0m \u001b[0;32mimport\u001b[0m \u001b[0marray\u001b[0m\u001b[0;34m\u001b[0m\u001b[0;34m\u001b[0m\u001b[0m\n\u001b[1;32m      2\u001b[0m \u001b[0;34m\u001b[0m\u001b[0m\n\u001b[0;32m----> 3\u001b[0;31m \u001b[0marray_module_arr\u001b[0m \u001b[0;34m=\u001b[0m \u001b[0marray\u001b[0m\u001b[0;34m(\u001b[0m\u001b[0;34m\"u\"\u001b[0m\u001b[0;34m,\u001b[0m \u001b[0;34m[\u001b[0m\u001b[0;34m\"v\"\u001b[0m\u001b[0;34m,\u001b[0m \u001b[0;34m\"a\"\u001b[0m\u001b[0;34m,\u001b[0m \u001b[0;36m1\u001b[0m\u001b[0;34m]\u001b[0m\u001b[0;34m)\u001b[0m\u001b[0;34m\u001b[0m\u001b[0;34m\u001b[0m\u001b[0m\n\u001b[0m\u001b[1;32m      4\u001b[0m \u001b[0mprint\u001b[0m\u001b[0;34m(\u001b[0m\u001b[0marray_module_arr\u001b[0m\u001b[0;34m)\u001b[0m\u001b[0;34m\u001b[0m\u001b[0;34m\u001b[0m\u001b[0m\n",
      "\u001b[0;31mTypeError\u001b[0m: array item must be unicode character"
     ]
    }
   ],
   "source": [
    "from array import array\n",
    "\n",
    "array_module_arr = array(\"u\", [\"v\", \"a\", 1])\n",
    "print(array_module_arr)"
   ]
  },
  {
   "cell_type": "code",
   "execution_count": 3,
   "metadata": {},
   "outputs": [
    {
     "name": "stdout",
     "output_type": "stream",
     "text": [
      "['str' '1' '3.4' '0.345' '23' '5']\n",
      "[1.  2.  3.  3.5]\n"
     ]
    }
   ],
   "source": [
    "import numpy as np\n",
    "numpy_arr = np.array([\"str\", 1, 3.4, 0.345, 23, 5])\n",
    "print(numpy_arr)\n",
    "\n",
    "new_arr = np.array([2, 4, 6, 7])\n",
    "div = new_arr/2\n",
    "print(div)"
   ]
  },
  {
   "cell_type": "code",
   "execution_count": 30,
   "metadata": {},
   "outputs": [
    {
     "name": "stdout",
     "output_type": "stream",
     "text": [
      "y\n",
      "array('u', 'ay')\n",
      "array('u', 'v')\n",
      "---------------- \n",
      "\n",
      "['3.4' '0.345']\n",
      "['str' '1' '3.4' '0.345' '23' '5']\n",
      "['str' '1' '3.4' '0.345' '23' '5']\n",
      "['str' '3.4' '23']\n",
      "['5' '23' '0.345' '3.4' '1' 'str']\n",
      "['5' '3.4']\n"
     ]
    }
   ],
   "source": [
    "# Slicing\n",
    "print(array_module_arr[-1])  # last item\n",
    "print(array_module_arr[1:])  # from 2nd to last items\n",
    "print(array_module_arr[:1])  # upto 1st item\n",
    "print(\"---------------- \\n\")\n",
    "print(numpy_arr[2:4])  # between 2nd and 3rd items\n",
    "print(numpy_arr[::])  # all items\n",
    "print(numpy_arr[:])  # all items\n",
    "print(numpy_arr[::2])  # every 2nd item\n",
    "print(numpy_arr[::-1])  # all items sorted in reversed\n",
    "print(numpy_arr[::-3])  # every third item sorted in reversed"
   ]
  },
  {
   "cell_type": "code",
   "execution_count": 1,
   "metadata": {},
   "outputs": [
    {
     "name": "stdout",
     "output_type": "stream",
     "text": [
      "{1, 3, 4}\n",
      "{2, 4, 5, 6}\n",
      "{8, 1, 7}\n",
      "{8, 1, 10, 7}\n",
      "{4, 5, 6}\n",
      "{5, 6}\n",
      "{1, 4}\n"
     ]
    }
   ],
   "source": [
    "# sets\n",
    "s = {1, 3, 4, 3}\n",
    "print(s)\n",
    "s2 = set([2, 4, 5, 6, 4]) # from a list\n",
    "print(s2)\n",
    "s3 = set((1, 7, 8))  # from a tuple\n",
    "print(s3)\n",
    "s3.add(10) # type: ignore\n",
    "print(s3)\n",
    "s2.pop()\n",
    "print(s2)\n",
    "s2.pop()\n",
    "print(s2)\n",
    "s.remove(3)\n",
    "print(s)"
   ]
  },
  {
   "cell_type": "code",
   "execution_count": 3,
   "metadata": {},
   "outputs": [
    {
     "name": "stdout",
     "output_type": "stream",
     "text": [
      "frozenset({'a', 'e', 'o', 'i', 'u'})\n",
      "True\n",
      "frozenset({'a', 'e', 'o', 'i', 'u'})\n",
      "frozenset({'e', 'a', 'i'})\n",
      "frozenset()\n",
      "frozenset({'o', 'u'})\n"
     ]
    }
   ],
   "source": [
    "# frozenset (immutable sets)\n",
    "fs = frozenset((\"a\", \"e\", \"i\", \"o\", \"u\"))\n",
    "print(fs)\n",
    "# fs.add('ae')  Not possible\n",
    "# fs.remove('a')  Not possible\n",
    "\n",
    "fs_s = frozenset((\"a\", \"e\", \"i\"))\n",
    "print(fs_s.issubset(fs))\n",
    "print(fs_s.union(fs))\n",
    "print(fs_s.intersection(fs))\n",
    "print(fs_s.difference(fs))\n",
    "print(fs.difference(fs_s))"
   ]
  },
  {
   "cell_type": "code",
   "execution_count": 6,
   "metadata": {},
   "outputs": [],
   "source": [
    "class SomeClass:\n",
    "    def some_class_method(self):\n",
    "        print(\"In class\", __name__ == \"__main__\")"
   ]
  },
  {
   "cell_type": "code",
   "execution_count": 7,
   "metadata": {},
   "outputs": [
    {
     "name": "stdout",
     "output_type": "stream",
     "text": [
      "In class True\n",
      "True\n"
     ]
    }
   ],
   "source": [
    "SomeClass().some_class_method()\n",
    "print(__name__ == \"__main__\")\n",
    "\n",
    "# Python sets the global __name__ of a module equal to \"__main__\" if the Python interpreter runs your code in the top-level code environment\n",
    "# Top-level code” is the first user-specified Python module that starts running. It’s “top-level” because it imports all other modules that the program needs."
   ]
  },
  {
   "cell_type": "code",
   "execution_count": 22,
   "metadata": {},
   "outputs": [
    {
     "name": "stdout",
     "output_type": "stream",
     "text": [
      "The value double in main() is: 100\n",
      "The x local in main() is: 20\n",
      "The x global after main() is: 100\n",
      "The x local in main() is: 20\n"
     ]
    }
   ],
   "source": [
    "x_global = 100\n",
    "\n",
    "def calculate_double(x):\n",
    "   global x_local\n",
    "   x_local = x * 2\n",
    "   return x_local\n",
    " \n",
    "def main():\n",
    "    value = 10\n",
    "    value_double = calculate_double(value)\n",
    "    print(\"The value double in main() is: {}\".format(x_global))\n",
    "    print(\"The x local in main() is: {}\".format(x_local))\n",
    " \n",
    "if __name__ == '__main__':\n",
    "   main()\n",
    "   print(\"The x global after main() is: {}\".format(x_global))\n",
    "   print(\"The x local in main() is: {}\".format(x_local))"
   ]
  },
  {
   "cell_type": "code",
   "execution_count": null,
   "metadata": {},
   "outputs": [],
   "source": []
  },
  {
   "cell_type": "code",
   "execution_count": 44,
   "metadata": {},
   "outputs": [
    {
     "name": "stdout",
     "output_type": "stream",
     "text": [
      "The x value inside inner function is: 5\n",
      "The x local value inside inner function is 10\n",
      "The x value outside inner function is: 5\n"
     ]
    }
   ],
   "source": [
    "def outer_function(x):\n",
    "    ''' enclosing function'''\n",
    "    # x = 5\n",
    "    def inner_function():\n",
    "        '''\n",
    "        nested function\n",
    "        '''\n",
    "        nonlocal x\n",
    "        x = 5\n",
    "        print(\"The x value inside inner function is: {}\".format(x))\n",
    "        x_local = x * 2\n",
    "        print(\"The x local value inside inner function is {}\".format(x_local))\n",
    "\n",
    "    inner_function()\n",
    "    print(\"The x value outside inner function is: {}\".format(x))\n",
    " \n",
    "def main():\n",
    "   value = 10\n",
    "   value_double = outer_function(value)\n",
    "    \n",
    "if __name__ == '__main__':\n",
    "   main()"
   ]
  },
  {
   "cell_type": "code",
   "execution_count": 49,
   "metadata": {},
   "outputs": [
    {
     "name": "stdout",
     "output_type": "stream",
     "text": [
      "81\n"
     ]
    }
   ],
   "source": [
    "def square(x):\n",
    "    sqr_x = lambda x : x**2\n",
    "    return sqr_x(x)\n",
    "\n",
    "if __name__ == '__main__':\n",
    "    print(square(9))"
   ]
  },
  {
   "cell_type": "code",
   "execution_count": 51,
   "metadata": {},
   "outputs": [
    {
     "name": "stdout",
     "output_type": "stream",
     "text": [
      "The eBook is: python\n",
      "The eBook is: perl\n",
      "The eBook is: ruby\n"
     ]
    }
   ],
   "source": [
    "def main():\n",
    "   ebooks = [\"python\", \"perl\", \"ruby\"]\n",
    "   for item in ebooks:\n",
    "       print(\"The eBook is: {}\".format(item))\n",
    " \n",
    "if __name__ == '__main__':\n",
    "   main()"
   ]
  },
  {
   "cell_type": "code",
   "execution_count": 53,
   "metadata": {},
   "outputs": [
    {
     "name": "stdout",
     "output_type": "stream",
     "text": [
      "l\n",
      "o\n",
      "o\n",
      "p\n"
     ]
    }
   ],
   "source": [
    "s = \"loop\"\n",
    "for c in s:\n",
    "    print(c)"
   ]
  },
  {
   "cell_type": "code",
   "execution_count": 8,
   "metadata": {},
   "outputs": [
    {
     "name": "stdout",
     "output_type": "stream",
     "text": [
      "1\n",
      "skipping even numbers\n",
      "3\n",
      "skipping even numbers\n",
      "5\n",
      "skipping even numbers\n",
      "7\n",
      "skipping even numbers\n",
      "9\n",
      "skipping even numbers\n"
     ]
    }
   ],
   "source": [
    "i = 0\n",
    "while i < 10:\n",
    "    i += 1\n",
    "    if i%2 == 0:\n",
    "        print(\"skipping even numbers\")\n",
    "        continue\n",
    "    print(i)"
   ]
  },
  {
   "cell_type": "code",
   "execution_count": 15,
   "metadata": {},
   "outputs": [
    {
     "name": "stdout",
     "output_type": "stream",
     "text": [
      "root - WARNING - This message gets logged as warning.\n",
      "root - WARNING - This message gets logged as warning.\n",
      "root - WARNING - This message gets logged as warning.\n",
      "root - WARNING - This message gets logged as warning.\n",
      "root - WARNING - This message gets logged as warning.\n",
      "\n"
     ]
    }
   ],
   "source": [
    "import logging\n",
    " \n",
    "def main():\n",
    "   logging.basicConfig(\n",
    "       filename=\"app.log\", filemode=\"w\", format=\"%(name)s - %(levelname)s - %(message)s\")\n",
    "   logging.warning(\"This message gets logged as warning.\")\n",
    "   print(open(\"app.log\", \"r\").read())\n",
    " \n",
    "if __name__ == '__main__':\n",
    "   main()"
   ]
  },
  {
   "cell_type": "code",
   "execution_count": 16,
   "metadata": {},
   "outputs": [
    {
     "name": "stdout",
     "output_type": "stream",
     "text": [
      "root - WARNING - This message gets logged as warning.\n",
      "root - WARNING - This message gets logged as warning.\n",
      "root - WARNING - This message gets logged as warning.\n",
      "root - WARNING - This message gets logged as warning.\n",
      "root - WARNING - This message gets logged as warning.\n",
      "root - WARNING - This message gets logged as warning.\n",
      "\n"
     ]
    }
   ],
   "source": [
    "def log_func():\n",
    "    FORMAT = '%(asctime)s %(clientip)-15s %(user)-8s %(message)s'\n",
    "    logging.basicConfig(filename=\"app.log\", filemode=\"a\", format=FORMAT)\n",
    "    d = {'clientip': '192.168.0.1', 'user': 'fbloggs'}\n",
    "    logger = logging.getLogger('tcpserver')\n",
    "    logger.warning('Protocol problem: %s', 'connection reset', extra=d)\n",
    "    \n",
    "    print(open(\"app.log\", \"r\").read())\n",
    "    \n",
    "if __name__ == '__main__':\n",
    "   main()"
   ]
  },
  {
   "cell_type": "code",
   "execution_count": 31,
   "metadata": {},
   "outputs": [
    {
     "name": "stdout",
     "output_type": "stream",
     "text": [
      "root - WARNING - This message gets logged as warning.\n",
      "root - WARNING - This message gets logged as warning.\n",
      "root - WARNING - This message gets logged as warning.\n",
      "root - WARNING - This message gets logged as warning.\n",
      "root - WARNING - This message gets logged as warning.\n",
      "root - WARNING - This message gets logged as warning.\n",
      "some more log datasome more log data\n"
     ]
    }
   ],
   "source": [
    "log_file = open(\"app.log\", \"a\")\n",
    "log_file.write(\"some more log data\")\n",
    "log_file.close()\n",
    "print(open(\"app.log\", \"r\").read())"
   ]
  }
 ],
 "metadata": {
  "kernelspec": {
   "display_name": "Python 3",
   "language": "python",
   "name": "python3"
  },
  "language_info": {
   "codemirror_mode": {
    "name": "ipython",
    "version": 3
   },
   "file_extension": ".py",
   "mimetype": "text/x-python",
   "name": "python",
   "nbconvert_exporter": "python",
   "pygments_lexer": "ipython3",
   "version": "3.7.3"
  },
  "orig_nbformat": 4
 },
 "nbformat": 4,
 "nbformat_minor": 2
}
